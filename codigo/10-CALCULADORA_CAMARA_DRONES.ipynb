{
 "cells": [
  {
   "cell_type": "code",
   "execution_count": 1,
   "metadata": {},
   "outputs": [
    {
     "ename": "SyntaxError",
     "evalue": "invalid syntax (1567828809.py, line 1)",
     "output_type": "error",
     "traceback": [
      "\u001b[1;36m  Cell \u001b[1;32mIn[1], line 1\u001b[1;36m\u001b[0m\n\u001b[1;33m    PROGRAMA DE ANALISIS DE CAMARA DE DRONES\u001b[0m\n\u001b[1;37m             ^\u001b[0m\n\u001b[1;31mSyntaxError\u001b[0m\u001b[1;31m:\u001b[0m invalid syntax\n"
     ]
    }
   ],
   "source": [
    "PROGRAMA DE ANALISIS DE CAMARA DE DRONES"
   ]
  },
  {
   "cell_type": "markdown",
   "metadata": {},
   "source": [
    "1. DRON MAVIC 3.0\n",
    "Camara RBG de 20 MPix, tipo CMOS 3/4', tamaño 17 mm x 13 mm, arreglo de 3956 x 5280 pixeles o aprox 20 MPX \n",
    "Camara multiespectral de 5 MPix, tipo CMOS 1/2,8', 5,14 mm x 3.86 mm, arreglo de 2592 x 1994 pixeles o aprox 5 MPX\n",
    "2. DRON PHANTOM\n",
    "Camara RGB y Multiespectral 2MP, tipo CMOS 1/2,9', 4,98 mm x 3,74 mm, arreglo de 1600 x 1300 pixeles o aprox 2 MPX.\n",
    "2. CAMARA MICASENSE para DRON MATRICE, tipo CMOS 1/3'que equivale a  4.8 mm x 3.6 mm, arreglo de 1028 x 960 pixeles o aprox 1.2 MPX, #FOV 47.2\n"
   ]
  },
  {
   "cell_type": "code",
   "execution_count": null,
   "metadata": {},
   "outputs": [
    {
     "name": "stdout",
     "output_type": "stream",
     "text": [
      "[20.88768   5.168448  2.08      1.2288  ]\n",
      "[3.21969697 1.98302469 3.1125     3.75      ]\n",
      "[3.28614762 1.93580742 2.87692308 3.75      ]\n",
      "[45.02020221 37.61616983 30.46027162 80.01672645]\n",
      "[ 6367.43844739  4445.27893797  2914.85809155 20114.60149373]\n",
      "[0.85265534 1.45124112 1.90376698 6.25130675]\n",
      "[1.13802331 1.8864679  2.34309782 8.33507567]\n",
      "[  1.94068332   5.47543956   8.92142449 104.21022969]\n"
     ]
    }
   ],
   "source": [
    "import numpy as np \n",
    "#import matplotlib \n",
    "import matplotlib.pyplot as plt\n",
    "\n",
    "#PARAMETROS DE ENTRADA\n",
    "#Parametros fijos\n",
    "x_mm = np.array([17, 5.14, 4.98, 4.8]) #MAVIC RBG, MAVIC ME, PHATOM RGB Y ME, MICASENSE ME\n",
    "y_mm = np.array([13, 3.86, 3.74, 3.6])\n",
    "pixeles_x = np.array([5280, 2592, 1600, 1280])\n",
    "pixeles_y = np.array([3956, 1994, 1300, 960])\n",
    "#Parámetros variables\n",
    "altura_vuelo = np.array([50, 50, 50, 50])\n",
    "FOV = np.array([84, 73.91, 62.7, 58*2])\n",
    "longitud_cuadrado= np.array([1, 1, 1, 1]) #longitud lateral de 1 m \n",
    "\n",
    "\n",
    "## CALCULOS PARAMETROS MAVIC RGB - TAMAÑO PIXEL Y NUMERO DE PIXELES\n",
    "#calculo de Megapixeles de la RBG\n",
    "MegaPixeles = np.multiply(pixeles_x, pixeles_y)*0.000001\n",
    "#calculo tamaño de pixel\n",
    "tamaño_x_micra= (x_mm/pixeles_x)*1000         #tamaño de pixel en micras en x aproximado\n",
    "tamaño_y_micra= (y_mm/pixeles_y)*1000         #tamaño de pixel en micras en y aproximado\n",
    "\n",
    "print(MegaPixeles)\n",
    "print (tamaño_x_micra)\n",
    "print(tamaño_y_micra)\n",
    "\n",
    "#CALCULO DE CUBRIMIENTO\n",
    "# calculemos con la altura de vuelo del dron en metros si el FOV en grados es de 84 el cubrimiento es:\n",
    "n=2\n",
    "x_lateral= altura_vuelo*np.tan(np.deg2rad(FOV/n))\n",
    "area_cubierta=np.pi*(x_lateral)**2\n",
    "tamaño_cubrimiento_pixel_cm_y=(x_lateral/pixeles_y)*100\n",
    "tamaño_cubrimiento_pixel_cm_x=(x_lateral/pixeles_x)*100\n",
    "area_por_pixel_rectangular= 2*tamaño_cubrimiento_pixel_cm_x*tamaño_cubrimiento_pixel_cm_y\n",
    "\n",
    "print(x_lateral)\n",
    "print(area_cubierta)  #m2\n",
    "print(tamaño_cubrimiento_pixel_cm_x)\n",
    "print(tamaño_cubrimiento_pixel_cm_y)\n",
    "print(area_por_pixel_rectangular) #area en cm 2 cubierta por cada pixel en la camara\n",
    "\n"
   ]
  },
  {
   "cell_type": "markdown",
   "metadata": {},
   "source": [
    "COBERTURA EN 1M2"
   ]
  },
  {
   "cell_type": "code",
   "execution_count": 2,
   "metadata": {},
   "outputs": [
    {
     "name": "stdout",
     "output_type": "stream",
     "text": [
      "[5152.82421501 1826.33739005 1120.89722968   95.9598691 ]\n"
     ]
    }
   ],
   "source": [
    "#COBERTURA EN 1 m2\n",
    "#Con cuantos pixeles se cubre 1 m2 del cuadrado\n",
    "x_cm_cobertura= (longitud_cuadrado/tamaño_cubrimiento_pixel_cm_x)*100\n",
    "y_cm_cobertura = (longitud_cuadrado/tamaño_cubrimiento_pixel_cm_y)*100\n",
    "area_1m_cobertura = x_cm_cobertura*y_cm_cobertura/2\n",
    "\n",
    "#print(x_mm_cobertura)\n",
    "#print(y_mm_cobertura)\n",
    "print(area_1m_cobertura)  #pixeles en el area\n"
   ]
  },
  {
   "cell_type": "code",
   "execution_count": 3,
   "metadata": {},
   "outputs": [
    {
     "data": {
      "image/png": "[encoded data removed]",
      "text/plain": [
       "<Figure size 640x480 with 1 Axes>"
      ]
     },
     "metadata": {},
     "output_type": "display_data"
    }
   ],
   "source": [
    "\n",
    "plt.plot(altura_vuelo, area_1m_cobertura, '.',color='red') \n",
    "plt.show()"
   ]
  }
 ],
 "metadata": {
  "kernelspec": {
   "display_name": "Python 3",
   "language": "python",
   "name": "python3"
  },
  "language_info": {
   "codemirror_mode": {
    "name": "ipython",
    "version": 3
   },
   "file_extension": ".py",
   "mimetype": "text/x-python",
   "name": "python",
   "nbconvert_exporter": "python",
   "pygments_lexer": "ipython3",
   "version": "3.11.9"
  }
 },
 "nbformat": 4,
 "nbformat_minor": 2
}
