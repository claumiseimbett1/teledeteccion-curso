{
 "cells": [
  {
   "cell_type": "code",
   "execution_count": 32,
   "id": "bfe1c111",
   "metadata": {},
   "outputs": [
    {
     "name": "stdout",
     "output_type": "stream",
     "text": [
      "              precision    recall  f1-score   support\n",
      "\n",
      "     Mombasa       1.00      1.00      1.00         1\n",
      "\n",
      "    accuracy                           1.00         1\n",
      "   macro avg       1.00      1.00      1.00         1\n",
      "weighted avg       1.00      1.00      1.00         1\n",
      "\n"
     ]
    }
   ],
   "source": [
    "espectros = [\n",
    "    {'reflectancia': [0.12, 0.18, 0.25, 0.32, 0.04], 'clase': 'Mombasa'},\n",
    "    {'reflectancia': [0.03, 0.05, 0.08, 0.12, 0.02], 'clase': 'Suelo'},\n",
    "]\n",
    "\n",
    "from sklearn.ensemble import RandomForestClassifier\n",
    "from sklearn.model_selection import train_test_split\n",
    "from sklearn.metrics import classification_report\n",
    "import numpy as np\n",
    "from sklearn.preprocessing import LabelEncoder\n",
    "from sklearn.metrics import accuracy_score\n",
    "\n",
    "# Datos de ejemplo: X = espectros (reflectancias por banda), y = etiquetas\n",
    "X = np.array([\n",
    "    [0.12, 0.18, 0.25, 0.32, 0.04],\n",
    "    [0.10, 0.16, 0.22, 0.30, 0.03],\n",
    "    [0.03, 0.05, 0.08, 0.12, 0.02],\n",
    "    [0.02, 0.04, 0.07, 0.11, 0.01]\n",
    "])\n",
    "y = ['Mombasa', 'Mombasa', 'Suelo', 'Suelo']\n",
    "\n",
    "X_test = np.array([\n",
    "    [0.11, 0.17, 0.24, 0.31, 0.05],\n",
    "    [0.02, 0.03, 0.06, 0.10, 0.01]      \n",
    "])\n",
    "\n",
    "# Dividir y entrenar\n",
    "X_train, X_test, y_train, y_test = train_test_split(X, y, test_size=0.25, random_state=42)\n",
    "clf = RandomForestClassifier(n_estimators=100, random_state=42)\n",
    "clf.fit(X_train, y_train)\n",
    "\n",
    "\n",
    "# Evaluar\n",
    "y_pred = clf.predict(X_test)\n",
    "print(classification_report(y_test, y_pred))\n"
   ]
  }
 ],
 "metadata": {
  "kernelspec": {
   "display_name": "Python 3",
   "language": "python",
   "name": "python3"
  },
  "language_info": {
   "codemirror_mode": {
    "name": "ipython",
    "version": 3
   },
   "file_extension": ".py",
   "mimetype": "text/x-python",
   "name": "python",
   "nbconvert_exporter": "python",
   "pygments_lexer": "ipython3",
   "version": "3.11.9"
  }
 },
 "nbformat": 4,
 "nbformat_minor": 5
}
