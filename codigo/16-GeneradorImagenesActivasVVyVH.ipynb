{
 "cells": [
  {
   "cell_type": "code",
   "execution_count": null,
   "id": "b81c8b5a",
   "metadata": {},
   "outputs": [],
   "source": [
    "import rasterio\n",
    "from rasterio.merge import merge\n",
    "\n",
    "# Rutas a los archivos VV y VH\n",
    "vv_path = 'ruta_al_archivo_vv.tif'\n",
    "vh_path = 'ruta_al_archivo_vh.tif'\n",
    "\n",
    "# Abrir las bandas\n",
    "with rasterio.open(vv_path) as vv_src:\n",
    "    vv = vv_src.read(1)\n",
    "    profile = vv_src.profile\n",
    "\n",
    "with rasterio.open(vh_path) as vh_src:\n",
    "    vh = vh_src.read(1)\n",
    "\n",
    "# Actualizar el perfil para dos bandas\n",
    "profile.update(count=2)\n",
    "\n",
    "# Guardar el archivo multibanda\n",
    "with rasterio.open('sentinel1_vv_vh.tif', 'w', **profile) as dst:\n",
    "    dst.write(vv, 1)  # Banda 1: VV\n",
    "    dst.write(vh, 2)  # Banda 2: VH\n"
   ]
  }
 ],
 "metadata": {
  "language_info": {
   "name": "python"
  }
 },
 "nbformat": 4,
 "nbformat_minor": 5
}
