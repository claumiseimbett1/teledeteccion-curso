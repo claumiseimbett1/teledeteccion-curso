{
 "cells": [
  {
   "cell_type": "code",
   "execution_count": 1,
   "id": "f8be9a7a",
   "metadata": {},
   "outputs": [
    {
     "name": "stdout",
     "output_type": "stream",
     "text": [
      "Imagen creada: imagen_multibanda.tif\n"
     ]
    }
   ],
   "source": [
    "import numpy as np\n",
    "import rasterio\n",
    "from rasterio.transform import from_origin\n",
    "\n",
    "# Dimensiones de la imagen\n",
    "height, width, bands = 100, 100, 5  # 100x100 píxeles, 5 bandas\n",
    "\n",
    "# Crear imagen vacía con 5 bandas\n",
    "image = np.zeros((bands, height, width), dtype=np.float32)\n",
    "\n",
    "# Simular datos para dos clases:\n",
    "# - Filas 0–49: Mombasa (valores más altos en ciertas bandas)\n",
    "# - Filas 50–99: Suelo (valores bajos)\n",
    "\n",
    "np.random.seed(42)  # Reproducibilidad\n",
    "\n",
    "for b in range(bands):\n",
    "    image[b, :50, :] = np.random.normal(loc=0.15 + 0.02*b, scale=0.01, size=(50, width))  # Mombasa\n",
    "    image[b, 50:, :] = np.random.normal(loc=0.05 + 0.01*b, scale=0.005, size=(50, width))  # Suelo\n",
    "\n",
    "# Información geoespacial (ficticia pero válida)\n",
    "transform = from_origin(0, 100, 1, 1)  # origen x=0, y=100, resolución=1x1\n",
    "profile = {\n",
    "    'driver': 'GTiff',\n",
    "    'height': height,\n",
    "    'width': width,\n",
    "    'count': bands,\n",
    "    'dtype': rasterio.float32,\n",
    "    'crs': 'EPSG:4326',\n",
    "    'transform': transform\n",
    "}\n",
    "\n",
    "# Guardar como imagen GeoTIFF multibanda\n",
    "output_path = \"imagen_multibanda.tif\"\n",
    "with rasterio.open(output_path, 'w', **profile) as dst:\n",
    "    dst.write(image)\n",
    "\n",
    "print(f\"Imagen creada: {output_path}\")\n"
   ]
  }
 ],
 "metadata": {
  "kernelspec": {
   "display_name": "Python 3",
   "language": "python",
   "name": "python3"
  },
  "language_info": {
   "codemirror_mode": {
    "name": "ipython",
    "version": 3
   },
   "file_extension": ".py",
   "mimetype": "text/x-python",
   "name": "python",
   "nbconvert_exporter": "python",
   "pygments_lexer": "ipython3",
   "version": "3.11.9"
  }
 },
 "nbformat": 4,
 "nbformat_minor": 5
}
