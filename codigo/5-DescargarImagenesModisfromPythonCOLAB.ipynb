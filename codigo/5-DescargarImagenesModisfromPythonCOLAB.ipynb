{
 "cells": [
  {
   "cell_type": "code",
   "execution_count": 1,
   "id": "986534b2",
   "metadata": {},
   "outputs": [
    {
     "ename": "ModuleNotFoundError",
     "evalue": "No module named 'fcntl'",
     "output_type": "error",
     "traceback": [
      "\u001b[1;31m---------------------------------------------------------------------------\u001b[0m",
      "\u001b[1;31mModuleNotFoundError\u001b[0m                       Traceback (most recent call last)",
      "Cell \u001b[1;32mIn[1], line 1\u001b[0m\n\u001b[1;32m----> 1\u001b[0m \u001b[38;5;28;01mimport\u001b[39;00m \u001b[38;5;21;01mee\u001b[39;00m\n\u001b[0;32m      2\u001b[0m \u001b[38;5;28;01mimport\u001b[39;00m \u001b[38;5;21;01mgeemap\u001b[39;00m\u001b[38;5;21;01m.\u001b[39;00m\u001b[38;5;21;01mcore\u001b[39;00m \u001b[38;5;28;01mas\u001b[39;00m \u001b[38;5;21;01mgeemap\u001b[39;00m\n\u001b[0;32m      3\u001b[0m ee\u001b[38;5;241m.\u001b[39mAuthenticate()\n",
      "File \u001b[1;32m~\\AppData\\Local\\Packages\\PythonSoftwareFoundation.Python.3.11_qbz5n2kfra8p0\\LocalCache\\local-packages\\Python311\\site-packages\\ee\\__init__.py:1\u001b[0m\n\u001b[1;32m----> 1\u001b[0m \u001b[38;5;28;01mfrom\u001b[39;00m \u001b[38;5;21;01m.\u001b[39;00m\u001b[38;5;21;01mmain\u001b[39;00m \u001b[38;5;28;01mimport\u001b[39;00m main\n",
      "File \u001b[1;32m~\\AppData\\Local\\Packages\\PythonSoftwareFoundation.Python.3.11_qbz5n2kfra8p0\\LocalCache\\local-packages\\Python311\\site-packages\\ee\\main.py:5\u001b[0m\n\u001b[0;32m      3\u001b[0m \u001b[38;5;28;01mimport\u001b[39;00m \u001b[38;5;21;01msubprocess\u001b[39;00m\n\u001b[0;32m      4\u001b[0m \u001b[38;5;28;01mimport\u001b[39;00m \u001b[38;5;21;01msys\u001b[39;00m\n\u001b[1;32m----> 5\u001b[0m \u001b[38;5;28;01mimport\u001b[39;00m \u001b[38;5;21;01mblessings\u001b[39;00m\n\u001b[0;32m      6\u001b[0m \u001b[38;5;28;01mimport\u001b[39;00m \u001b[38;5;21;01mre\u001b[39;00m\n\u001b[0;32m      7\u001b[0m \u001b[38;5;28;01mimport\u001b[39;00m \u001b[38;5;21;01mos\u001b[39;00m\n",
      "File \u001b[1;32m~\\AppData\\Local\\Packages\\PythonSoftwareFoundation.Python.3.11_qbz5n2kfra8p0\\LocalCache\\local-packages\\Python311\\site-packages\\blessings\\__init__.py:7\u001b[0m\n\u001b[0;32m      5\u001b[0m \u001b[38;5;28;01mimport\u001b[39;00m \u001b[38;5;21;01mcurses\u001b[39;00m\n\u001b[0;32m      6\u001b[0m \u001b[38;5;28;01mfrom\u001b[39;00m \u001b[38;5;21;01mcurses\u001b[39;00m \u001b[38;5;28;01mimport\u001b[39;00m setupterm, tigetnum, tigetstr, tparm\n\u001b[1;32m----> 7\u001b[0m \u001b[38;5;28;01mfrom\u001b[39;00m \u001b[38;5;21;01mfcntl\u001b[39;00m \u001b[38;5;28;01mimport\u001b[39;00m ioctl\n\u001b[0;32m      8\u001b[0m \u001b[38;5;28;01mfrom\u001b[39;00m \u001b[38;5;21;01msix\u001b[39;00m \u001b[38;5;28;01mimport\u001b[39;00m text_type, string_types\n\u001b[0;32m     10\u001b[0m \u001b[38;5;28;01mtry\u001b[39;00m:\n",
      "\u001b[1;31mModuleNotFoundError\u001b[0m: No module named 'fcntl'"
     ]
    }
   ],
   "source": [
    "import ee\n",
    "import geemap.core as geemap\n",
    "ee.Authenticate()\n",
    "ee.Initialize(project='my-project-unimagdalena')\n",
    "\n",
    "\n",
    "# Área de interés (Turipaná, Córdoba)\n",
    "aoi = ee.Geometry.Rectangle([-75.89, 8.88, -75.86, 8.90])\n",
    "\n",
    "# Fechas de análisis\n",
    "start_date = '2023-01-01'\n",
    "end_date = '2024-12-31'\n",
    "\n",
    "# Colección MODIS NDVI\n",
    "modis_ndvi = ee.ImageCollection('MODIS/006/MOD13Q1') \\\n",
    "    .filterDate(start_date, end_date) \\\n",
    "    .filterBounds(aoi) \\\n",
    "    .select('NDVI')\n",
    "\n",
    "# Validar si hay imágenes disponibles\n",
    "image_count = modis_ndvi.size().getInfo()\n",
    "print(f\" Número de imágenes encontradas: {image_count}\")\n",
    "\n",
    "if image_count > 0:\n",
    "    # Calcular NDVI promedio\n",
    "    ndvi_composite = modis_ndvi.mean().clip(aoi)\n",
    "\n",
    "    # Exportar imagen a Google Drive\n",
    "    task = ee.batch.Export.image.toDrive(\n",
    "        image=ndvi_composite,\n",
    "        description='MODIS_NDVI_EneMar2024',\n",
    "        folder='GEE_Exports',\n",
    "        fileNamePrefix='NDVI_MODIS_Turipana_2024',\n",
    "        region=aoi,\n",
    "        scale=250,\n",
    "        crs='EPSG:4326',\n",
    "        maxPixels=1e13\n",
    "    )\n",
    "    task.start()\n",
    "    print(\"Exportación iniciada a Google Drive.\")\n",
    "else:\n",
    "    print(\"No se encontraron imágenes MODIS NDVI para el área y fechas especificadas.\")"
   ]
  }
 ],
 "metadata": {
  "kernelspec": {
   "display_name": "Python 3",
   "language": "python",
   "name": "python3"
  },
  "language_info": {
   "codemirror_mode": {
    "name": "ipython",
    "version": 3
   },
   "file_extension": ".py",
   "mimetype": "text/x-python",
   "name": "python",
   "nbconvert_exporter": "python",
   "pygments_lexer": "ipython3",
   "version": "3.11.9"
  }
 },
 "nbformat": 4,
 "nbformat_minor": 5
}
