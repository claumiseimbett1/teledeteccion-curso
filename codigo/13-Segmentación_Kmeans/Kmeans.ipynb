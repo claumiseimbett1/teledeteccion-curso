{
 "cells": [
  {
   "cell_type": "code",
   "execution_count": 2,
   "metadata": {},
   "outputs": [
    {
     "data": {
      "text/plain": [
       "[]"
      ]
     },
     "execution_count": 2,
     "metadata": {},
     "output_type": "execute_result"
    }
   ],
   "source": [
    "import os\n",
    "from skimage.segmentation import slic\n",
    "from skimage.color import label2rgb\n",
    "from matplotlib.pyplot import imread\n",
    "import matplotlib.pyplot as plt\n",
    "\n",
    "def kmeans(data_dir):\n",
    "    results = []\n",
    "    for filename in os.listdir(data_dir):\n",
    "        image_path = os.path.join(data_dir, filename)\n",
    "        image = imread(image_path)\n",
    "        labels = slic(image)\n",
    "        segmented_image = label2rgb(\n",
    "        labels, image, kind=\"avg\", bg_label=0)\n",
    "        plt.imsave(f\"output/{filename}\", segmented_image, format='png')\n",
    "\n",
    "\n",
    "    return results\n",
    "\n",
    "\n",
    "kmeans('data')\n",
    "\n"
   ]
  }
 ],
 "metadata": {
  "kernelspec": {
   "display_name": "Python 3",
   "language": "python",
   "name": "python3"
  },
  "language_info": {
   "codemirror_mode": {
    "name": "ipython",
    "version": 3
   },
   "file_extension": ".py",
   "mimetype": "text/x-python",
   "name": "python",
   "nbconvert_exporter": "python",
   "pygments_lexer": "ipython3",
   "version": "3.11.9"
  }
 },
 "nbformat": 4,
 "nbformat_minor": 2
}
