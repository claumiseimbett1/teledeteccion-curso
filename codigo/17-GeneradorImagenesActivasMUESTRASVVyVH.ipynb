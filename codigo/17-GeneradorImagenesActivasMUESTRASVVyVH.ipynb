{
 "cells": [
  {
   "cell_type": "code",
   "execution_count": null,
   "id": "2141db1a",
   "metadata": {},
   "outputs": [],
   "source": [
    "import numpy as np\n",
    "import rasterio\n",
    "from rasterio.transform import from_origin\n",
    "\n",
    "# --- 1. Crear datos simulados para VV y VH ---\n",
    "# Tamaño de la imagen (e.g., 100x100 píxeles)\n",
    "height = 100\n",
    "width = 100\n",
    "\n",
    "# Simular valores VV y VH (entre 0 y 1, como retrodispersión normalizada)\n",
    "vv_band = np.random.rand(height, width).astype('float32')\n",
    "vh_band = np.random.rand(height, width).astype('float32')\n",
    "\n",
    "# --- 2. Definir la transformación geográfica ---\n",
    "# Coordenadas ficticias para el origen (x, y)\n",
    "transform = from_origin(500000, 1000000, 10, 10)  # origen X, Y, tamaño pixel X, Y\n",
    "\n",
    "# --- 3. Especificar metadatos del archivo ---\n",
    "profile = {\n",
    "    'driver': 'GTiff',\n",
    "    'height': height,\n",
    "    'width': width,\n",
    "    'count': 2,  # 2 bandas: VV y VH\n",
    "    'dtype': 'float32',\n",
    "    'crs': 'EPSG:32618',  # Sistema de referencia UTM zona 18N (ejemplo)\n",
    "    'transform': transform\n",
    "}\n",
    "\n",
    "# --- 4. Guardar el archivo como .tif ---\n",
    "output_path = 'muestras.tif'\n",
    "\n",
    "with rasterio.open(output_path, 'w', **profile) as dst:\n",
    "    dst.write(vv_band, 1)  # Banda 1: VV\n",
    "    dst.write(vh_band, 2)  # Banda 2: VH\n",
    "\n",
    "print(f\"Archivo '{output_path}'_\n"
   ]
  }
 ],
 "metadata": {
  "language_info": {
   "name": "python"
  }
 },
 "nbformat": 4,
 "nbformat_minor": 5
}
